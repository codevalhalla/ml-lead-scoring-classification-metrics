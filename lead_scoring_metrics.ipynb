{
 "cells": [
  {
   "cell_type": "code",
   "execution_count": 11,
   "id": "10fe74cc-e69e-4459-a11e-06b2607c69f2",
   "metadata": {},
   "outputs": [],
   "source": [
    "import pandas as pd\n",
    "import numpy as np"
   ]
  },
  {
   "cell_type": "code",
   "execution_count": 12,
   "id": "6c895e58-b77b-49a5-bafc-478d0c22d715",
   "metadata": {},
   "outputs": [],
   "source": [
    "#read csv\n",
    "df = pd.read_csv(\"./course_lead_scoring.csv\")"
   ]
  },
  {
   "cell_type": "code",
   "execution_count": 13,
   "id": "f93f5008-3c0c-4f37-89ce-d164be7a2ae6",
   "metadata": {},
   "outputs": [],
   "source": [
    "columns = list(df.columns)\n",
    "for col in columns:\n",
    "    if df[col].dtype=='float64' or df[col].dtype=='int64':\n",
    "        df[col]=df[col].fillna(0.0)\n",
    "    else:\n",
    "        df[col]=df[col].fillna('NA')"
   ]
  },
  {
   "cell_type": "code",
   "execution_count": 14,
   "id": "6e1c20b8-05f1-438f-a4ff-8e04645daa29",
   "metadata": {},
   "outputs": [],
   "source": [
    "from sklearn.model_selection import train_test_split"
   ]
  },
  {
   "cell_type": "code",
   "execution_count": 15,
   "id": "6297afcf-6670-42c8-ae33-07c7dfb97b2d",
   "metadata": {},
   "outputs": [],
   "source": [
    "\n",
    "df_full_train,df_test = train_test_split(df,test_size=0.2,random_state=1)\n",
    "df_train,df_val = train_test_split(df_full_train,test_size=0.25,random_state=1)"
   ]
  },
  {
   "cell_type": "code",
   "execution_count": 6,
   "id": "d62164c9-ed71-434e-8354-549d9c30b712",
   "metadata": {},
   "outputs": [],
   "source": [
    "\n",
    "df_full_train.reset_index(drop=True,inplace=True)\n",
    "df_test.reset_index(drop=True,inplace=True)\n",
    "df_train.reset_index(drop=True,inplace=True)\n",
    "df_val.reset_index(drop=True,inplace=True)"
   ]
  },
  {
   "cell_type": "code",
   "execution_count": 7,
   "id": "c60c2ff2-d6b1-4347-bdbc-8795f6e78dff",
   "metadata": {},
   "outputs": [],
   "source": [
    "y_full_train = df_full_train['converted']\n",
    "y_test = df_test['converted']\n",
    "y_train = df_train['converted']\n",
    "y_val = df_val['converted']\n",
    "\n",
    "del df_full_train['converted']\n",
    "del df_test['converted']\n",
    "del df_train['converted']\n",
    "del df_val['converted']"
   ]
  },
  {
   "cell_type": "code",
   "execution_count": 8,
   "id": "bf3b90bd-e3fa-4497-aa01-f4ac79bbf5f9",
   "metadata": {},
   "outputs": [
    {
     "data": {
      "text/plain": [
       "0      0\n",
       "1      1\n",
       "2      0\n",
       "3      0\n",
       "4      0\n",
       "      ..\n",
       "871    1\n",
       "872    1\n",
       "873    0\n",
       "874    0\n",
       "875    0\n",
       "Name: converted, Length: 876, dtype: int64"
      ]
     },
     "execution_count": 8,
     "metadata": {},
     "output_type": "execute_result"
    }
   ],
   "source": [
    "y_train"
   ]
  },
  {
   "cell_type": "code",
   "execution_count": 18,
   "id": "d059a73a-2f60-4349-90bf-379c4b86734e",
   "metadata": {},
   "outputs": [
    {
     "name": "stdout",
     "output_type": "stream",
     "text": [
      "ROC AUC scores for each numerical variable:\n",
      "\n",
      "lead_score: 0.614\n",
      "number_of_courses_viewed: 0.764\n",
      "interaction_count: 0.738\n",
      "annual_income: 0.552\n"
     ]
    }
   ],
   "source": [
    "from sklearn.metrics import roc_auc_score\n",
    "\n",
    "# Target variable\n",
    "y_train = df_train['converted']\n",
    "\n",
    "# Numerical features\n",
    "numerical = ['lead_score', 'number_of_courses_viewed', 'interaction_count', 'annual_income']\n",
    "\n",
    "print(\"ROC AUC scores for each numerical variable:\\n\")\n",
    "\n",
    "for col in numerical:\n",
    "    score = df_train[col]\n",
    "    auc = roc_auc_score(y_train, score)\n",
    "    \n",
    "    # If AUC < 0.5, invert the feature\n",
    "    if auc < 0.5:\n",
    "        auc = roc_auc_score(y_train, -score)\n",
    "        direction = \" (inverted)\"\n",
    "    else:\n",
    "        direction = \"\"\n",
    "    \n",
    "    print(f\"{col}: {auc:.3f}{direction}\")\n"
   ]
  },
  {
   "cell_type": "code",
   "execution_count": 19,
   "id": "1be8457f-c36d-4d0a-bd8f-6a2f8768754a",
   "metadata": {},
   "outputs": [],
   "source": [
    "categorical = ['lead_source', 'industry', 'employment_status', 'location']\n",
    "numerical = ['number_of_courses_viewed', 'annual_income', 'interaction_count', 'lead_score']\n"
   ]
  },
  {
   "cell_type": "code",
   "execution_count": 20,
   "id": "ea698d3a-63eb-4648-b687-e92bd2b65e61",
   "metadata": {},
   "outputs": [
    {
     "name": "stdout",
     "output_type": "stream",
     "text": [
      "Validation AUC: 0.817\n"
     ]
    }
   ],
   "source": [
    "from sklearn.feature_extraction import DictVectorizer\n",
    "from sklearn.linear_model import LogisticRegression\n",
    "from sklearn.metrics import roc_auc_score\n",
    "\n",
    "# Separate features & target\n",
    "X_train = df_train[categorical + numerical]\n",
    "y_train = df_train['converted']\n",
    "\n",
    "X_val = df_val[categorical + numerical]\n",
    "y_val = df_val['converted']\n",
    "\n",
    "# One-hot encoding\n",
    "dv = DictVectorizer(sparse=False)\n",
    "train_dicts = X_train.to_dict(orient='records')\n",
    "val_dicts = X_val.to_dict(orient='records')\n",
    "\n",
    "X_train_enc = dv.fit_transform(train_dicts)\n",
    "X_val_enc = dv.transform(val_dicts)\n",
    "\n",
    "# Train logistic regression\n",
    "model = LogisticRegression(solver='liblinear', C=1.0, max_iter=1000)\n",
    "model.fit(X_train_enc, y_train)\n",
    "\n",
    "# Predict probabilities for validation set\n",
    "y_pred = model.predict_proba(X_val_enc)[:, 1]\n",
    "\n",
    "# Compute AUC\n",
    "auc = roc_auc_score(y_val, y_pred)\n",
    "print(f\"Validation AUC: {auc:.3f}\")\n"
   ]
  },
  {
   "cell_type": "code",
   "execution_count": 22,
   "id": "22375c67-3a1e-44c9-95a8-3e135faed302",
   "metadata": {},
   "outputs": [
    {
     "name": "stderr",
     "output_type": "stream",
     "text": [
      "/home/purushothamad/anaconda3/envs/ml-zoomcamp/lib/python3.13/site-packages/sklearn/metrics/_classification.py:1731: UndefinedMetricWarning: Precision is ill-defined and being set to 0.0 due to no predicted samples. Use `zero_division` parameter to control this behavior.\n",
      "  _warn_prf(average, modifier, f\"{metric.capitalize()} is\", result.shape[0])\n",
      "/home/purushothamad/anaconda3/envs/ml-zoomcamp/lib/python3.13/site-packages/sklearn/metrics/_classification.py:1731: UndefinedMetricWarning: Precision is ill-defined and being set to 0.0 due to no predicted samples. Use `zero_division` parameter to control this behavior.\n",
      "  _warn_prf(average, modifier, f\"{metric.capitalize()} is\", result.shape[0])\n",
      "/home/purushothamad/anaconda3/envs/ml-zoomcamp/lib/python3.13/site-packages/sklearn/metrics/_classification.py:1731: UndefinedMetricWarning: Precision is ill-defined and being set to 0.0 due to no predicted samples. Use `zero_division` parameter to control this behavior.\n",
      "  _warn_prf(average, modifier, f\"{metric.capitalize()} is\", result.shape[0])\n"
     ]
    },
    {
     "data": {
      "image/png": "[encoded data removed]",
      "text/plain": [
       "<Figure size 640x480 with 1 Axes>"
      ]
     },
     "metadata": {},
     "output_type": "display_data"
    }
   ],
   "source": [
    "from sklearn.metrics import precision_score, recall_score\n",
    "import matplotlib.pyplot as plt\n",
    "\n",
    "thresholds = np.arange(0.0, 1.01, 0.01)\n",
    "precisions = []\n",
    "recalls = []\n",
    "\n",
    "for t in thresholds:\n",
    "    y_pred_bin = (y_pred >= t)\n",
    "    precisions.append(precision_score(y_val, y_pred_bin))\n",
    "    recalls.append(recall_score(y_val, y_pred_bin))\n",
    "\n",
    "# Plot\n",
    "plt.plot(thresholds, precisions, label='Precision')\n",
    "plt.plot(thresholds, recalls, label='Recall')\n",
    "plt.xlabel('Threshold')\n",
    "plt.ylabel('Score')\n",
    "plt.legend()\n",
    "plt.grid(True)\n",
    "plt.show()\n"
   ]
  },
  {
   "cell_type": "code",
   "execution_count": 23,
   "id": "eee6fdb5-8515-4818-9a7a-1d096783695d",
   "metadata": {},
   "outputs": [
    {
     "name": "stdout",
     "output_type": "stream",
     "text": [
      "Precision and Recall intersect around threshold: 0.980\n"
     ]
    }
   ],
   "source": [
    "diff = np.abs(np.array(precisions) - np.array(recalls))\n",
    "t_best = thresholds[diff.argmin()]\n",
    "print(f\"Precision and Recall intersect around threshold: {t_best:.3f}\")\n"
   ]
  },
  {
   "cell_type": "code",
   "execution_count": 24,
   "id": "9dc0b5e0-909a-4a40-892e-4df4d23a204f",
   "metadata": {},
   "outputs": [
    {
     "name": "stdout",
     "output_type": "stream",
     "text": [
      "Best threshold for F1: 0.570, F1 = 0.812\n"
     ]
    }
   ],
   "source": [
    "\n",
    "# Convert to numpy arrays for vectorized operations\n",
    "precisions = np.array(precisions)\n",
    "recalls = np.array(recalls)\n",
    "\n",
    "# Compute F1 scores safely (avoid division by zero)\n",
    "f1_scores = 2 * precisions * recalls / (precisions + recalls + 1e-10)\n",
    "\n",
    "# Find threshold where F1 is maximum\n",
    "best_idx = np.argmax(f1_scores)\n",
    "best_threshold = thresholds[best_idx]\n",
    "best_f1 = f1_scores[best_idx]\n",
    "\n",
    "print(f\"Best threshold for F1: {best_threshold:.3f}, F1 = {best_f1:.3f}\")\n"
   ]
  },
  {
   "cell_type": "code",
   "execution_count": 26,
   "id": "81622c1d-d9b9-4317-94d9-06fd53552c13",
   "metadata": {},
   "outputs": [
    {
     "data": {
      "image/png": "[encoded data removed]",
      "text/plain": [
       "<Figure size 640x480 with 1 Axes>"
      ]
     },
     "metadata": {},
     "output_type": "display_data"
    }
   ],
   "source": [
    "\n",
    "\n",
    "plt.plot(thresholds, f1_scores, label='F1 Score', color='purple')\n",
    "plt.xlabel('Threshold')\n",
    "plt.ylabel('F1 Score')\n",
    "plt.title('F1 vs Threshold')\n",
    "plt.grid(True)\n",
    "plt.legend()\n",
    "plt.show()\n"
   ]
  },
  {
   "cell_type": "code",
   "execution_count": 27,
   "id": "81532cda-4f93-471f-8714-5e0695241dc2",
   "metadata": {},
   "outputs": [],
   "source": [
    "from sklearn.model_selection import KFold"
   ]
  },
  {
   "cell_type": "code",
   "execution_count": 28,
   "id": "523f8522-5615-424a-a3fe-2da45398522f",
   "metadata": {},
   "outputs": [],
   "source": [
    "kf = KFold(n_splits=5, shuffle=True, random_state=1)\n"
   ]
  },
  {
   "cell_type": "code",
   "execution_count": 29,
   "id": "1f82bf69-786c-47cc-b2c0-461d3785e1fd",
   "metadata": {},
   "outputs": [
    {
     "name": "stdout",
     "output_type": "stream",
     "text": [
      "AUCs across folds: [0.8060745924216483, 0.8713738368910783, 0.7754320118852139, 0.8018368617683685, 0.8558272713202291]\n",
      "Standard deviation: 0.036\n"
     ]
    }
   ],
   "source": [
    "aucs = []\n",
    "\n",
    "for train_idx, val_idx in kf.split(df_full_train):\n",
    "    # Split data\n",
    "    df_train_cv = df_full_train.iloc[train_idx]\n",
    "    df_val_cv = df_full_train.iloc[val_idx]\n",
    "    \n",
    "    y_train_cv = df_train_cv['converted']\n",
    "    y_val_cv = df_val_cv['converted']\n",
    "    \n",
    "    X_train_cv = df_train_cv[categorical + numerical]\n",
    "    X_val_cv = df_val_cv[categorical + numerical]\n",
    "    \n",
    "    # One-hot encoding\n",
    "    dv = DictVectorizer(sparse=False)\n",
    "    X_train_enc = dv.fit_transform(X_train_cv.to_dict(orient='records'))\n",
    "    X_val_enc = dv.transform(X_val_cv.to_dict(orient='records'))\n",
    "    \n",
    "    # Train logistic regression\n",
    "    model = LogisticRegression(solver='liblinear', C=1.0, max_iter=1000)\n",
    "    model.fit(X_train_enc, y_train_cv)\n",
    "    \n",
    "    # Predict & evaluate\n",
    "    y_pred_cv = model.predict_proba(X_val_enc)[:, 1]\n",
    "    auc = roc_auc_score(y_val_cv, y_pred_cv)\n",
    "    aucs.append(auc)\n",
    "\n",
    "# Compute standard deviation\n",
    "std_auc = np.std(aucs)\n",
    "print(f\"AUCs across folds: {aucs}\")\n",
    "print(f\"Standard deviation: {std_auc:.3f}\")\n"
   ]
  },
  {
   "cell_type": "code",
   "execution_count": 31,
   "id": "6307e069-a365-4da3-8518-718c0f51903a",
   "metadata": {},
   "outputs": [
    {
     "name": "stdout",
     "output_type": "stream",
     "text": [
      "C=1e-06, Mean AUC=0.56, Std=0.024\n",
      "C=0.001, Mean AUC=0.867, Std=0.029\n",
      "C=1, Mean AUC=0.822, Std=0.036\n",
      "Best C: 0.001\n"
     ]
    }
   ],
   "source": [
    "results = []\n",
    "C_values = [0.000001, 0.001, 1]\n",
    "\n",
    "for C in C_values:\n",
    "    aucs = []\n",
    "    \n",
    "    for train_idx, val_idx in kf.split(df_full_train):\n",
    "        df_train_cv = df_full_train.iloc[train_idx]\n",
    "        df_val_cv = df_full_train.iloc[val_idx]\n",
    "        \n",
    "        y_train_cv = df_train_cv['converted']\n",
    "        y_val_cv = df_val_cv['converted']\n",
    "        \n",
    "        X_train_cv = df_train_cv[categorical + numerical]\n",
    "        X_val_cv = df_val_cv[categorical + numerical]\n",
    "        \n",
    "        dv = DictVectorizer(sparse=False)\n",
    "        X_train_enc = dv.fit_transform(X_train_cv.to_dict(orient='records'))\n",
    "        X_val_enc = dv.transform(X_val_cv.to_dict(orient='records'))\n",
    "        \n",
    "        model = LogisticRegression(solver='liblinear', C=C, max_iter=1000)\n",
    "        model.fit(X_train_enc, y_train_cv)\n",
    "        \n",
    "        y_pred_cv = model.predict_proba(X_val_enc)[:, 1]\n",
    "        aucs.append(roc_auc_score(y_val_cv, y_pred_cv))\n",
    "    \n",
    "    mean_auc = round(np.mean(aucs), 3)\n",
    "    std_auc = round(np.std(aucs), 3)\n",
    "    results.append((C, mean_auc, std_auc))\n",
    "\n",
    "# Display results\n",
    "for C, mean_auc, std_auc in results:\n",
    "    print(f\"C={C}, Mean AUC={mean_auc}, Std={std_auc}\")\n",
    "\n",
    "# Find the best C\n",
    "results.sort(key=lambda x: (-x[1], x[2], x[0]))  # max mean, then min std, then min C\n",
    "best_C = results[0][0]\n",
    "print(f\"Best C: {best_C}\")\n"
   ]
  },
  {
   "cell_type": "code",
   "execution_count": null,
   "id": "85d82e34-ac6f-44e3-a60b-827e70d42bc0",
   "metadata": {},
   "outputs": [],
   "source": []
  }
 ],
 "metadata": {
  "kernelspec": {
   "display_name": "Python 3 (ipykernel)",
   "language": "python",
   "name": "python3"
  },
  "language_info": {
   "codemirror_mode": {
    "name": "ipython",
    "version": 3
   },
   "file_extension": ".py",
   "mimetype": "text/x-python",
   "name": "python",
   "nbconvert_exporter": "python",
   "pygments_lexer": "ipython3",
   "version": "3.13.7"
  },
  "widgets": {
   "application/vnd.jupyter.widget-state+json": {
    "state": {},
    "version_major": 2,
    "version_minor": 0
   }
  }
 },
 "nbformat": 4,
 "nbformat_minor": 5
}
