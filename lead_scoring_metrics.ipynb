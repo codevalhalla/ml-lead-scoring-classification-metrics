{
 "cells": [
  {
   "cell_type": "code",
   "execution_count": 11,
   "id": "10fe74cc-e69e-4459-a11e-06b2607c69f2",
   "metadata": {},
   "outputs": [],
   "source": [
    "import pandas as pd\n",
    "import numpy as np"
   ]
  },
  {
   "cell_type": "code",
   "execution_count": 12,
   "id": "6c895e58-b77b-49a5-bafc-478d0c22d715",
   "metadata": {},
   "outputs": [],
   "source": [
    "#read csv\n",
    "df = pd.read_csv(\"./course_lead_scoring.csv\")"
   ]
  },
  {
   "cell_type": "code",
   "execution_count": 13,
   "id": "f93f5008-3c0c-4f37-89ce-d164be7a2ae6",
   "metadata": {},
   "outputs": [],
   "source": [
    "columns = list(df.columns)\n",
    "for col in columns:\n",
    "    if df[col].dtype=='float64' or df[col].dtype=='int64':\n",
    "        df[col]=df[col].fillna(0.0)\n",
    "    else:\n",
    "        df[col]=df[col].fillna('NA')"
   ]
  },
  {
   "cell_type": "code",
   "execution_count": 14,
   "id": "6e1c20b8-05f1-438f-a4ff-8e04645daa29",
   "metadata": {},
   "outputs": [],
   "source": [
    "from sklearn.model_selection import train_test_split"
   ]
  },
  {
   "cell_type": "code",
   "execution_count": 15,
   "id": "6297afcf-6670-42c8-ae33-07c7dfb97b2d",
   "metadata": {},
   "outputs": [],
   "source": [
    "\n",
    "df_full_train,df_test = train_test_split(df,test_size=0.2,random_state=1)\n",
    "df_train,df_val = train_test_split(df_full_train,test_size=0.25,random_state=1)"
   ]
  },
  {
   "cell_type": "code",
   "execution_count": 6,
   "id": "d62164c9-ed71-434e-8354-549d9c30b712",
   "metadata": {},
   "outputs": [],
   "source": [
    "\n",
    "df_full_train.reset_index(drop=True,inplace=True)\n",
    "df_test.reset_index(drop=True,inplace=True)\n",
    "df_train.reset_index(drop=True,inplace=True)\n",
    "df_val.reset_index(drop=True,inplace=True)"
   ]
  },
  {
   "cell_type": "code",
   "execution_count": 7,
   "id": "c60c2ff2-d6b1-4347-bdbc-8795f6e78dff",
   "metadata": {},
   "outputs": [],
   "source": [
    "y_full_train = df_full_train['converted']\n",
    "y_test = df_test['converted']\n",
    "y_train = df_train['converted']\n",
    "y_val = df_val['converted']\n",
    "\n",
    "del df_full_train['converted']\n",
    "del df_test['converted']\n",
    "del df_train['converted']\n",
    "del df_val['converted']"
   ]
  },
  {
   "cell_type": "code",
   "execution_count": 8,
   "id": "bf3b90bd-e3fa-4497-aa01-f4ac79bbf5f9",
   "metadata": {},
   "outputs": [
    {
     "data": {
      "text/plain": [
       "0      0\n",
       "1      1\n",
       "2      0\n",
       "3      0\n",
       "4      0\n",
       "      ..\n",
       "871    1\n",
       "872    1\n",
       "873    0\n",
       "874    0\n",
       "875    0\n",
       "Name: converted, Length: 876, dtype: int64"
      ]
     },
     "execution_count": 8,
     "metadata": {},
     "output_type": "execute_result"
    }
   ],
   "source": [
    "y_train"
   ]
  },
  {
   "cell_type": "code",
   "execution_count": 18,
   "id": "d059a73a-2f60-4349-90bf-379c4b86734e",
   "metadata": {},
   "outputs": [
    {
     "name": "stdout",
     "output_type": "stream",
     "text": [
      "ROC AUC scores for each numerical variable:\n",
      "\n",
      "lead_score: 0.614\n",
      "number_of_courses_viewed: 0.764\n",
      "interaction_count: 0.738\n",
      "annual_income: 0.552\n"
     ]
    }
   ],
   "source": [
    "from sklearn.metrics import roc_auc_score\n",
    "\n",
    "# Target variable\n",
    "y_train = df_train['converted']\n",
    "\n",
    "# Numerical features\n",
    "numerical = ['lead_score', 'number_of_courses_viewed', 'interaction_count', 'annual_income']\n",
    "\n",
    "print(\"ROC AUC scores for each numerical variable:\\n\")\n",
    "\n",
    "for col in numerical:\n",
    "    score = df_train[col]\n",
    "    auc = roc_auc_score(y_train, score)\n",
    "    \n",
    "    # If AUC < 0.5, invert the feature\n",
    "    if auc < 0.5:\n",
    "        auc = roc_auc_score(y_train, -score)\n",
    "        direction = \" (inverted)\"\n",
    "    else:\n",
    "        direction = \"\"\n",
    "    \n",
    "    print(f\"{col}: {auc:.3f}{direction}\")\n"
   ]
  },
  {
   "cell_type": "code",
   "execution_count": null,
   "id": "1be8457f-c36d-4d0a-bd8f-6a2f8768754a",
   "metadata": {},
   "outputs": [],
   "source": []
  }
 ],
 "metadata": {
  "kernelspec": {
   "display_name": "Python 3 (ipykernel)",
   "language": "python",
   "name": "python3"
  },
  "language_info": {
   "codemirror_mode": {
    "name": "ipython",
    "version": 3
   },
   "file_extension": ".py",
   "mimetype": "text/x-python",
   "name": "python",
   "nbconvert_exporter": "python",
   "pygments_lexer": "ipython3",
   "version": "3.13.7"
  },
  "widgets": {
   "application/vnd.jupyter.widget-state+json": {
    "state": {},
    "version_major": 2,
    "version_minor": 0
   }
  }
 },
 "nbformat": 4,
 "nbformat_minor": 5
}
